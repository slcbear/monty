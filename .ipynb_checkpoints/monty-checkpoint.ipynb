{
 "cells": [
  {
   "cell_type": "markdown",
   "metadata": {},
   "source": [
    "# A no-frills Monty Hall simulation\n",
    "\n",
    "This unlikely scenario takes place in a magical land known as mid-20th century America. Contestants are\n",
    "chosen from the audience based on the outlandishness of their costumes, their camera-readiness and their \n",
    "ability to project emotions such as \"enthusiasm\" and \"disappointment\"—so, basically any average American.\n",
    "\n",
    "Finding themselves onstage, each contestant is confronted by Monty Hall, a genial, unemotional man wearing \n",
    "a nice suit. This presents each contestant with a humiliating moment of self-awareness, but before they can\n",
    "think about that for very long, Monty Hall instructs them to choose one of three doors. One of the doors \n",
    "conceals a desirable commodity such as a car, while behind both of the other two doors is an goat, innocently \n",
    "chewing its cud, and it didn't ask to be placed in such a situation; in fact, none of this is the goat's fault\n",
    "and previous versions of the show in which the goat was sacrificed to Baal did not test well with audiences.\n",
    "\n",
    "Nevertheless, there is a goat[<sup>1</sup>](#numgoat). If the contestant chooses the goat, the contestant loses. It seems important\n",
    "to point out that the goat is unaffected by the choice—in any case, it remains a goat, and has very little \n",
    "to say about any of this.\n",
    "\n",
    "The contestant chooses what's behind either Door No. 1, Door No. 2, or Door No. 3 and announces their choice \n",
    "in front of witnesses, including Monty Hall and the audience.\n",
    "\n",
    "At this point, Monty Hall, looking cool and unruffled in plaid-pattern polyster, opens one of the unchosen doors, \n",
    "a trombone sounds a derisive descending note, and a goat stands there looking moderately surprised[<sup>2</sup>](#montychoice). \n",
    "<em>It is not the goat's fault.</em>\n",
    "\n",
    "Monty Hall then gives the contestant a choice of switching to the remaining door. Intuitively, we might assume that \n",
    "this is of no consequence, and that the contestant has the same chance of winning whether they switch or not, but \n",
    "in fact, for reasons our brains seem ill-equipped to understand, should the contestant switch, they double their\n",
    "chances of winning.\n",
    "\n",
    "Here, \"prizes\" and \"winnings\" are valued according to one mid-20th century utility scheme \n",
    "in which a \"car\" was a win, and a \"goat\" was a loss[<sup>3</sup>](#goatnote). \n",
    "\n",
    "| Car | Goat |\n",
    "| --- | ---- |\n",
    "| 1 | 0 |\n",
    "\n",
    "The surprising thing and the whole point of this is that\n",
    "when ``` switch_strategy == True ``` the expected win\n",
    "is twice that as in the alternative.  \n",
    "\n",
    "| Switch Strategy | Expected Win |\n",
    "| --------------- | ------------ |\n",
    "| True | 2/3 | \n",
    "| False | 1/3 |\n",
    "\n",
    "\n",
    "***\n",
    "\n",
    "\n",
    "### Goatnotes:\n",
    "\n",
    "<span id=\"numgoat\">1</span>: In fact, recall that there are two goats: One each behind either of the two doors not concealing a car.\n",
    "\n",
    "<span id=\"montychoice\">2</span>: It may seem to a casual viewer—and there are seldom any other kind—that Monty Hall makes this choice\n",
    "  freely, but if we consider that he is always going to reveal a goat, the only time he has a choice is when the contestant\n",
    "  chooses the car, leaving two goats unchosen. Otherwise, he is obligated to open one and only door: The one that has\n",
    "  the goat no chosen.\n",
    "\n",
    "<span id=\"goatnote\">3</span>: This is misleading and unfair to goats, as they certainly have worth and \n",
    "  indeed are among the most charming, inquisitive and affectionate of the farm animals. \n",
    "  (The pigs get all the attention at the State Fair, but let's face it: Pigs are scary and smell bad.\n",
    "  Goats are clean and smell nice, and will butt you playfully when you're not looking.)\n",
    "\n",
    "  Many situations are possible, in fact, in which a goat is the better prize.\n",
    "\n",
    "  #### Goats Are Cool, Cars Drool\n"
   ]
  },
  {
   "cell_type": "code",
   "execution_count": 15,
   "metadata": {},
   "outputs": [
    {
     "data": {
      "application/vnd.jupyter.widget-view+json": {
       "model_id": "f08cb388e098468fa8d46b6109f07cd7",
       "version_major": 2,
       "version_minor": 0
      },
      "text/plain": [
       "ToggleButton(value=False, button_style='info', description='Switch Strategy', icon='check', tooltip='If checke…"
      ]
     },
     "execution_count": 15,
     "metadata": {},
     "output_type": "execute_result"
    }
   ],
   "source": [
    "from ipywidgets import interact, interactive, fixed, interact_manual\n",
    "import ipywidgets as widgets\n",
    "widgets.ToggleButton(\n",
    "    value = False,\n",
    "    description = 'Switch Strategy',\n",
    "    button_style = 'info',\n",
    "    tooltip = 'If checked, contestant always switches; otherwise contestant never switches',\n",
    "    disabled = False,\n",
    "    icon='check'\n",
    ")\n",
    "\n"
   ]
  },
  {
   "cell_type": "code",
   "execution_count": 21,
   "metadata": {},
   "outputs": [
    {
     "ename": "ValueError",
     "evalue": "cannot find widget or abbreviation for argument: 'x'",
     "output_type": "error",
     "traceback": [
      "\u001b[0;31m---------------------------------------------------------------------------\u001b[0m",
      "\u001b[0;31mValueError\u001b[0m                                Traceback (most recent call last)",
      "Cell \u001b[0;32mIn[21], line 18\u001b[0m\n\u001b[1;32m     15\u001b[0m     \u001b[38;5;28;01melse\u001b[39;00m:\n\u001b[1;32m     16\u001b[0m         \u001b[38;5;28;01mreturn\u001b[39;00m original_choice\n\u001b[0;32m---> 18\u001b[0m \u001b[38;5;129;43m@interact\u001b[39;49m\u001b[43m(\u001b[49m\u001b[43mn\u001b[49m\u001b[43m \u001b[49m\u001b[38;5;241;43m=\u001b[39;49m\u001b[43m \u001b[49m\u001b[38;5;241;43m100000\u001b[39;49m\u001b[43m,\u001b[49m\u001b[43m \u001b[49m\u001b[43mswitch\u001b[49m\u001b[43m \u001b[49m\u001b[38;5;241;43m=\u001b[39;49m\u001b[43m \u001b[49m\u001b[38;5;28;43;01mTrue\u001b[39;49;00m\u001b[43m)\u001b[49m\n\u001b[1;32m     19\u001b[0m \u001b[38;5;28;43;01mdef\u001b[39;49;00m\u001b[43m \u001b[49m\u001b[38;5;21;43mgame\u001b[39;49m\u001b[43m(\u001b[49m\u001b[43mx\u001b[49m\u001b[43m,\u001b[49m\u001b[43m \u001b[49m\u001b[43mswitch\u001b[49m\u001b[43m)\u001b[49m\u001b[43m:\u001b[49m\n\u001b[1;32m     20\u001b[0m \u001b[43m    \u001b[49m\u001b[38;5;28;43;01mfor\u001b[39;49;00m\u001b[43m \u001b[49m\u001b[43mi\u001b[49m\u001b[43m \u001b[49m\u001b[38;5;129;43;01min\u001b[39;49;00m\u001b[43m \u001b[49m\u001b[38;5;28;43mrange\u001b[39;49m\u001b[43m(\u001b[49m\u001b[43mn\u001b[49m\u001b[43m)\u001b[49m\u001b[43m:\u001b[49m\n\u001b[1;32m     21\u001b[0m \u001b[43m        \u001b[49m\u001b[43mprize\u001b[49m\u001b[43m \u001b[49m\u001b[38;5;241;43m=\u001b[39;49m\u001b[43m \u001b[49m\u001b[43mgame\u001b[49m\u001b[43m(\u001b[49m\u001b[43mswitch\u001b[49m\u001b[43m)\u001b[49m\n",
      "File \u001b[0;32m~/miniforge3/envs/monty/lib/python3.12/site-packages/ipywidgets/widgets/interaction.py:511\u001b[0m, in \u001b[0;36m_InteractFactory.__call__\u001b[0;34m(self, _InteractFactory__interact_f, **kwargs)\u001b[0m\n\u001b[1;32m    503\u001b[0m     \u001b[38;5;28;01mreturn\u001b[39;00m \u001b[38;5;28mself\u001b[39m\n\u001b[1;32m    505\u001b[0m \u001b[38;5;66;03m# positional arg support in: https://gist.github.com/8851331\u001b[39;00m\n\u001b[1;32m    506\u001b[0m \u001b[38;5;66;03m# Handle the cases 1 and 2\u001b[39;00m\n\u001b[1;32m    507\u001b[0m \u001b[38;5;66;03m# 1. interact(f, **kwargs)\u001b[39;00m\n\u001b[1;32m    508\u001b[0m \u001b[38;5;66;03m# 2. @interact\u001b[39;00m\n\u001b[1;32m    509\u001b[0m \u001b[38;5;66;03m#    def f(*args, **kwargs):\u001b[39;00m\n\u001b[1;32m    510\u001b[0m \u001b[38;5;66;03m#        ...\u001b[39;00m\n\u001b[0;32m--> 511\u001b[0m w \u001b[38;5;241m=\u001b[39m \u001b[38;5;28;43mself\u001b[39;49m\u001b[38;5;241;43m.\u001b[39;49m\u001b[43mwidget\u001b[49m\u001b[43m(\u001b[49m\u001b[43mf\u001b[49m\u001b[43m)\u001b[49m\n\u001b[1;32m    512\u001b[0m \u001b[38;5;28;01mtry\u001b[39;00m:\n\u001b[1;32m    513\u001b[0m     f\u001b[38;5;241m.\u001b[39mwidget \u001b[38;5;241m=\u001b[39m w\n",
      "File \u001b[0;32m~/miniforge3/envs/monty/lib/python3.12/site-packages/ipywidgets/widgets/interaction.py:427\u001b[0m, in \u001b[0;36m_InteractFactory.widget\u001b[0;34m(self, f)\u001b[0m\n\u001b[1;32m    411\u001b[0m \u001b[38;5;28;01mdef\u001b[39;00m \u001b[38;5;21mwidget\u001b[39m(\u001b[38;5;28mself\u001b[39m, f):\n\u001b[1;32m    412\u001b[0m \u001b[38;5;250m    \u001b[39m\u001b[38;5;124;03m\"\"\"\u001b[39;00m\n\u001b[1;32m    413\u001b[0m \u001b[38;5;124;03m    Return an interactive function widget for the given function.\u001b[39;00m\n\u001b[1;32m    414\u001b[0m \n\u001b[0;32m   (...)\u001b[0m\n\u001b[1;32m    425\u001b[0m \u001b[38;5;124;03m        The function to which the interactive widgets are tied.\u001b[39;00m\n\u001b[1;32m    426\u001b[0m \u001b[38;5;124;03m    \"\"\"\u001b[39;00m\n\u001b[0;32m--> 427\u001b[0m     \u001b[38;5;28;01mreturn\u001b[39;00m \u001b[38;5;28;43mself\u001b[39;49m\u001b[38;5;241;43m.\u001b[39;49m\u001b[43mcls\u001b[49m\u001b[43m(\u001b[49m\u001b[43mf\u001b[49m\u001b[43m,\u001b[49m\u001b[43m \u001b[49m\u001b[38;5;28;43mself\u001b[39;49m\u001b[38;5;241;43m.\u001b[39;49m\u001b[43mopts\u001b[49m\u001b[43m,\u001b[49m\u001b[43m \u001b[49m\u001b[38;5;241;43m*\u001b[39;49m\u001b[38;5;241;43m*\u001b[39;49m\u001b[38;5;28;43mself\u001b[39;49m\u001b[38;5;241;43m.\u001b[39;49m\u001b[43mkwargs\u001b[49m\u001b[43m)\u001b[49m\n",
      "File \u001b[0;32m~/miniforge3/envs/monty/lib/python3.12/site-packages/ipywidgets/widgets/interaction.py:172\u001b[0m, in \u001b[0;36minteractive.__init__\u001b[0;34m(self, _interactive__interact_f, _interactive__options, **kwargs)\u001b[0m\n\u001b[1;32m    169\u001b[0m \u001b[38;5;28mself\u001b[39m\u001b[38;5;241m.\u001b[39mmanual_name \u001b[38;5;241m=\u001b[39m __options\u001b[38;5;241m.\u001b[39mget(\u001b[38;5;124m\"\u001b[39m\u001b[38;5;124mmanual_name\u001b[39m\u001b[38;5;124m\"\u001b[39m, \u001b[38;5;124m\"\u001b[39m\u001b[38;5;124mRun Interact\u001b[39m\u001b[38;5;124m\"\u001b[39m)\n\u001b[1;32m    170\u001b[0m \u001b[38;5;28mself\u001b[39m\u001b[38;5;241m.\u001b[39mauto_display \u001b[38;5;241m=\u001b[39m __options\u001b[38;5;241m.\u001b[39mget(\u001b[38;5;124m\"\u001b[39m\u001b[38;5;124mauto_display\u001b[39m\u001b[38;5;124m\"\u001b[39m, \u001b[38;5;28;01mFalse\u001b[39;00m)\n\u001b[0;32m--> 172\u001b[0m new_kwargs \u001b[38;5;241m=\u001b[39m \u001b[38;5;28;43mself\u001b[39;49m\u001b[38;5;241;43m.\u001b[39;49m\u001b[43mfind_abbreviations\u001b[49m\u001b[43m(\u001b[49m\u001b[43mkwargs\u001b[49m\u001b[43m)\u001b[49m\n\u001b[1;32m    173\u001b[0m \u001b[38;5;66;03m# Before we proceed, let's make sure that the user has passed a set of args+kwargs\u001b[39;00m\n\u001b[1;32m    174\u001b[0m \u001b[38;5;66;03m# that will lead to a valid call of the function. This protects against unspecified\u001b[39;00m\n\u001b[1;32m    175\u001b[0m \u001b[38;5;66;03m# and doubly-specified arguments.\u001b[39;00m\n\u001b[1;32m    176\u001b[0m \u001b[38;5;28;01mtry\u001b[39;00m:\n",
      "File \u001b[0;32m~/miniforge3/envs/monty/lib/python3.12/site-packages/ipywidgets/widgets/interaction.py:272\u001b[0m, in \u001b[0;36minteractive.find_abbreviations\u001b[0;34m(self, kwargs)\u001b[0m\n\u001b[1;32m    270\u001b[0m     \u001b[38;5;28;01mfor\u001b[39;00m name, value, default \u001b[38;5;129;01min\u001b[39;00m _yield_abbreviations_for_parameter(param, kwargs):\n\u001b[1;32m    271\u001b[0m         \u001b[38;5;28;01mif\u001b[39;00m value \u001b[38;5;129;01mis\u001b[39;00m empty:\n\u001b[0;32m--> 272\u001b[0m             \u001b[38;5;28;01mraise\u001b[39;00m \u001b[38;5;167;01mValueError\u001b[39;00m(\u001b[38;5;124m'\u001b[39m\u001b[38;5;124mcannot find widget or abbreviation for argument: \u001b[39m\u001b[38;5;132;01m{!r}\u001b[39;00m\u001b[38;5;124m'\u001b[39m\u001b[38;5;241m.\u001b[39mformat(name))\n\u001b[1;32m    273\u001b[0m         new_kwargs\u001b[38;5;241m.\u001b[39mappend((name, value, default))\n\u001b[1;32m    274\u001b[0m \u001b[38;5;28;01mreturn\u001b[39;00m new_kwargs\n",
      "\u001b[0;31mValueError\u001b[0m: cannot find widget or abbreviation for argument: 'x'"
     ]
    }
   ],
   "source": [
    "import random \n",
    "from random import shuffle, randint\n",
    "n = 100000\n",
    "score = 0\n",
    "\n",
    "\n",
    "def game(contestant_switch):\n",
    "    prizes = [\"goat\", \"goat\", \"car\"]\n",
    "    random.shuffle(prizes)\n",
    "    original_choice = prizes[randint(0, 2)] # either \"goat\" or \"car\"\n",
    "    prizes.remove(original_choice)\n",
    "    prizes.remove(\"goat\") # Prizes is now a single-item list\n",
    "    if(contestant_switch):\n",
    "        return prizes[0]\n",
    "    else:\n",
    "        return original_choice\n",
    "\n",
    "@interact(n = 100000, switch = True)\n",
    "def game(x, switch):\n",
    "    for i in range(n):\n",
    "        prize = game(switch)\n",
    "        if(prize == 'car'):\n",
    "            score += 1\n",
    "        return score / n;\n",
    "\n"
   ]
  },
  {
   "cell_type": "code",
   "execution_count": null,
   "metadata": {},
   "outputs": [],
   "source": []
  }
 ],
 "metadata": {
  "kernelspec": {
   "display_name": "Python 3 (ipykernel)",
   "language": "python",
   "name": "python3"
  },
  "language_info": {
   "codemirror_mode": {
    "name": "ipython",
    "version": 3
   },
   "file_extension": ".py",
   "mimetype": "text/x-python",
   "name": "python",
   "nbconvert_exporter": "python",
   "pygments_lexer": "ipython3",
   "version": "3.12.1"
  }
 },
 "nbformat": 4,
 "nbformat_minor": 4
}
